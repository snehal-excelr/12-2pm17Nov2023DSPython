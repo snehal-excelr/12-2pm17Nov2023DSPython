{
  "cells": [
    {
      "cell_type": "code",
      "source": [
        "from scipy import stats"
      ],
      "metadata": {
        "id": "gCnKvrXIMHGr"
      },
      "execution_count": 1,
      "outputs": []
    },
    {
      "cell_type": "code",
      "source": [
        "stats.norm.cdf(680,711,29)"
      ],
      "metadata": {
        "colab": {
          "base_uri": "https://localhost:8080/"
        },
        "id": "k3Ef0YXgMLDE",
        "outputId": "5ec4932e-d741-4389-e9ff-8fc273820368"
      },
      "execution_count": 2,
      "outputs": [
        {
          "output_type": "execute_result",
          "data": {
            "text/plain": [
              "0.14254260383881612"
            ]
          },
          "metadata": {},
          "execution_count": 2
        }
      ]
    },
    {
      "cell_type": "code",
      "source": [
        "1 - stats.norm.cdf(750,711,29)"
      ],
      "metadata": {
        "colab": {
          "base_uri": "https://localhost:8080/"
        },
        "id": "VyiCPeKqMZ8z",
        "outputId": "fa1dbfa0-7cab-47d2-ea35-9787aeee962b"
      },
      "execution_count": 3,
      "outputs": [
        {
          "output_type": "execute_result",
          "data": {
            "text/plain": [
              "0.08934045974656879"
            ]
          },
          "metadata": {},
          "execution_count": 3
        }
      ]
    },
    {
      "cell_type": "code",
      "source": [
        "stats.norm.cdf(740,711,29)"
      ],
      "metadata": {
        "colab": {
          "base_uri": "https://localhost:8080/"
        },
        "id": "EaVD7gBqMuaz",
        "outputId": "5a31d1e3-7f24-4376-ef04-7541f8c35e56"
      },
      "execution_count": 4,
      "outputs": [
        {
          "output_type": "execute_result",
          "data": {
            "text/plain": [
              "0.8413447460685429"
            ]
          },
          "metadata": {},
          "execution_count": 4
        }
      ]
    },
    {
      "cell_type": "code",
      "source": [
        "0.8413447460685429 - 0.14254260383881612"
      ],
      "metadata": {
        "colab": {
          "base_uri": "https://localhost:8080/"
        },
        "id": "m0_qgquxMy5S",
        "outputId": "7adb14c7-ebef-460b-c192-65c6cec767c1"
      },
      "execution_count": 5,
      "outputs": [
        {
          "output_type": "execute_result",
          "data": {
            "text/plain": [
              "0.6988021422297268"
            ]
          },
          "metadata": {},
          "execution_count": 5
        }
      ]
    },
    {
      "cell_type": "code",
      "execution_count": 6,
      "metadata": {
        "id": "TUbiSTSFeQ-5"
      },
      "outputs": [],
      "source": [
        "import pandas as pd\n",
        "import numpy as np\n",
        "\n",
        "import warnings\n",
        "warnings.filterwarnings('ignore')"
      ]
    },
    {
      "cell_type": "code",
      "execution_count": null,
      "metadata": {
        "id": "AnMOpzmyeQ_E"
      },
      "outputs": [],
      "source": [
        "beml_df = pd.read_csv(\"BEML.csv\")\n",
        "beml_df.head()"
      ]
    },
    {
      "cell_type": "code",
      "execution_count": null,
      "metadata": {
        "id": "TumB0_BreQ_H"
      },
      "outputs": [],
      "source": [
        "glaxo_df = pd.read_csv(\"GLAXO.csv\")\n",
        "glaxo_df.head()"
      ]
    },
    {
      "cell_type": "code",
      "execution_count": 9,
      "metadata": {
        "id": "gJ5MhIy9eQ_J"
      },
      "outputs": [],
      "source": [
        "beml_df = beml_df[['Date', 'Close']]\n",
        "glaxo_df = glaxo_df[['Date', 'Close']]"
      ]
    },
    {
      "cell_type": "code",
      "execution_count": null,
      "metadata": {
        "id": "RjDrMXwFeQ_L"
      },
      "outputs": [],
      "source": [
        "beml_df"
      ]
    },
    {
      "cell_type": "code",
      "source": [
        "glaxo_df"
      ],
      "metadata": {
        "id": "SUPOvmUEJLEy"
      },
      "execution_count": null,
      "outputs": []
    },
    {
      "cell_type": "code",
      "source": [
        "beml_df.dtypes"
      ],
      "metadata": {
        "id": "q8u12AQbP8a0",
        "colab": {
          "base_uri": "https://localhost:8080/"
        },
        "outputId": "c7234b14-0f4b-4021-ac98-3b1f76fe0d56"
      },
      "execution_count": 12,
      "outputs": [
        {
          "output_type": "execute_result",
          "data": {
            "text/plain": [
              "Date      object\n",
              "Close    float64\n",
              "dtype: object"
            ]
          },
          "metadata": {},
          "execution_count": 12
        }
      ]
    },
    {
      "cell_type": "code",
      "source": [
        "glaxo_df.dtypes"
      ],
      "metadata": {
        "id": "yEAkfoMyJjX7",
        "colab": {
          "base_uri": "https://localhost:8080/"
        },
        "outputId": "a2b929b8-b869-4766-8c29-4cd374a6e2b9"
      },
      "execution_count": 13,
      "outputs": [
        {
          "output_type": "execute_result",
          "data": {
            "text/plain": [
              "Date      object\n",
              "Close    float64\n",
              "dtype: object"
            ]
          },
          "metadata": {},
          "execution_count": 13
        }
      ]
    },
    {
      "cell_type": "code",
      "execution_count": 14,
      "metadata": {
        "id": "9vBebEeseQ_N"
      },
      "outputs": [],
      "source": [
        "# '''The DataFrames have a date column, so we can\n",
        "# create a DatetimeIndex index from this column Date. It will ensure that the rows are sorted by time in\n",
        "# ascending order.'''\n",
        "glaxo_df = glaxo_df.set_index(pd.DatetimeIndex(glaxo_df['Date']))\n",
        "beml_df = beml_df.set_index(pd.DatetimeIndex(beml_df['Date']))"
      ]
    },
    {
      "cell_type": "code",
      "execution_count": null,
      "metadata": {
        "id": "OPxq9MRpWoEQ"
      },
      "outputs": [],
      "source": [
        "beml_df.head() # now date col is acting as an index"
      ]
    },
    {
      "cell_type": "code",
      "execution_count": null,
      "metadata": {
        "id": "eFBKd5KaWYtr"
      },
      "outputs": [],
      "source": [
        "glaxo_df.head()"
      ]
    },
    {
      "cell_type": "code",
      "execution_count": null,
      "metadata": {
        "id": "JdVLGz2OeQ_P"
      },
      "outputs": [],
      "source": [
        "import matplotlib.pyplot as plt\n",
        "import seaborn as sn\n",
        "plt.plot(glaxo_df.Close)\n",
        "plt.xlabel('Time')\n",
        "plt.ylabel('Close Price')"
      ]
    },
    {
      "cell_type": "code",
      "execution_count": null,
      "metadata": {
        "id": "3Q_hex19eQ_S"
      },
      "outputs": [],
      "source": [
        "plt.plot(beml_df.Close)\n",
        "plt.xlabel('Time')\n",
        "plt.ylabel('Close')"
      ]
    },
    {
      "cell_type": "code",
      "execution_count": 19,
      "metadata": {
        "id": "pbC5G6E3eQ_V"
      },
      "outputs": [],
      "source": [
        "# Gain is for each day. We are assuming that gain is coming from normal distribution.\n",
        "glaxo_df['gain'] = glaxo_df.Close.pct_change(periods = 1)\n",
        "beml_df['gain'] = beml_df.Close.pct_change(periods = 1)"
      ]
    },
    {
      "cell_type": "code",
      "execution_count": null,
      "metadata": {
        "id": "zxMxPdrqJzWB"
      },
      "outputs": [],
      "source": [
        "glaxo_df"
      ]
    },
    {
      "cell_type": "code",
      "source": [
        "beml_df"
      ],
      "metadata": {
        "id": "jvDChi-3N52z"
      },
      "execution_count": null,
      "outputs": []
    },
    {
      "cell_type": "code",
      "execution_count": 22,
      "metadata": {
        "id": "VMyWvGUleQ_X"
      },
      "outputs": [],
      "source": [
        "#drop first row since it is NaN\n",
        "glaxo_df = glaxo_df.dropna()\n",
        "beml_df = beml_df.dropna()"
      ]
    },
    {
      "cell_type": "code",
      "source": [
        "glaxo_df"
      ],
      "metadata": {
        "id": "YLTbMUFVvAdE"
      },
      "execution_count": null,
      "outputs": []
    },
    {
      "cell_type": "code",
      "source": [
        "beml_df"
      ],
      "metadata": {
        "id": "41lzgXjePzMK"
      },
      "execution_count": null,
      "outputs": []
    },
    {
      "cell_type": "code",
      "execution_count": null,
      "metadata": {
        "id": "Ik8xNPlaeQ_Z"
      },
      "outputs": [],
      "source": [
        "# GLAXO: Plot the gains. Over the years gain is not changing much.\n",
        "# In 2014 gain was highest i.e.20% and highest loss upto 7%. Sometimes positive sometimes negative\n",
        "plt.figure(figsize = (8, 5))\n",
        "plt.plot(glaxo_df.gain)\n",
        "plt.xlabel('Time')\n",
        "plt.ylabel('gain')"
      ]
    },
    {
      "cell_type": "code",
      "source": [
        "# BEML: from 2010 to 2012 gain was on lower side and after that gain increased upto 2015\n",
        "plt.figure(figsize = (8, 5))\n",
        "plt.plot(beml_df.gain)\n",
        "plt.xlabel('Time')\n",
        "plt.ylabel('gain')"
      ],
      "metadata": {
        "id": "Q7Il_pT12Ky3"
      },
      "execution_count": null,
      "outputs": []
    },
    {
      "cell_type": "code",
      "execution_count": null,
      "metadata": {
        "id": "78LDPK_deQ_b"
      },
      "outputs": [],
      "source": [
        "plt.figure(figsize=(10,5))\n",
        "plt.suptitle('Distribution',fontsize=15)\n",
        "plt.subplot(1,2,1)\n",
        "sn.distplot(glaxo_df.gain, label = 'Glaxo')\n",
        "plt.xlabel('gain')\n",
        "plt.ylabel('Density')\n",
        "plt.legend()\n",
        "plt.subplot(1,2,2)\n",
        "sn.distplot(beml_df.gain, label = 'BEML')\n",
        "plt.xlabel('gain')\n",
        "plt.ylabel('Density')\n",
        "plt.legend()\n",
        "\n",
        "#bell shaped normal distribution"
      ]
    },
    {
      "cell_type": "code",
      "source": [
        "plt.figure(figsize=(10,5))\n",
        "sn.distplot(glaxo_df.gain, label = 'Glaxo')\n",
        "sn.distplot(beml_df.gain, label = 'BEML')\n",
        "plt.xlabel('Gain')\n",
        "plt.ylabel('Density')\n",
        "plt.legend()\n",
        "# for BEML there is more variance (high risk or volatality) than GLAXO"
      ],
      "metadata": {
        "id": "Ol5U8aHNSTQv",
        "colab": {
          "base_uri": "https://localhost:8080/",
          "height": 483
        },
        "outputId": "0dfc5617-98f9-4460-885d-35485e3dd6e9"
      },
      "execution_count": 30,
      "outputs": [
        {
          "output_type": "execute_result",
          "data": {
            "text/plain": [
              "<matplotlib.legend.Legend at 0x7c2c43fa9a80>"
            ]
          },
          "metadata": {},
          "execution_count": 30
        },
        {
          "output_type": "display_data",
          "data": {
            "text/plain": [
              "<Figure size 1000x500 with 1 Axes>"
            ],
            "image/png": "[encoded data removed]"
          },
          "metadata": {}
        }
      ]
    },
    {
      "cell_type": "code",
      "execution_count": null,
      "metadata": {
        "id": "vFg60v1zeQ_f",
        "colab": {
          "base_uri": "https://localhost:8080/"
        },
        "outputId": "1e3900a4-a9fa-4e78-e230-f1993b53bdc3"
      },
      "outputs": [
        {
          "output_type": "stream",
          "name": "stdout",
          "text": [
            "Mean: 0.0004\n",
            "Standard Deviation:  0.0134\n"
          ]
        }
      ],
      "source": [
        "\n",
        "print('Mean:', round(glaxo_df.gain.mean(), 4))\n",
        "print('Standard Deviation: ', round(glaxo_df.gain.std(), 4))"
      ]
    },
    {
      "cell_type": "code",
      "execution_count": null,
      "metadata": {
        "id": "3WzumF2AeQ_g",
        "colab": {
          "base_uri": "https://localhost:8080/"
        },
        "outputId": "a0970889-1e34-4bca-b570-419bce7d1fa4"
      },
      "outputs": [
        {
          "output_type": "stream",
          "name": "stdout",
          "text": [
            "Mean:  0.0003\n",
            "Standard Deviation:  0.0264\n"
          ]
        }
      ],
      "source": [
        "print('Mean: ', round(beml_df.gain.mean(), 4))\n",
        "print('Standard Deviation: ', round(beml_df.gain.std(), 4))\n",
        "# BEML has high std"
      ]
    },
    {
      "cell_type": "code",
      "execution_count": null,
      "metadata": {
        "id": "JHYKccrCeQ_h",
        "colab": {
          "base_uri": "https://localhost:8080/"
        },
        "outputId": "ae7ee2a2-7785-4a56-b8f8-a3a94ab71a96"
      },
      "outputs": [
        {
          "output_type": "execute_result",
          "data": {
            "text/plain": [
              "0.06395593743937553"
            ]
          },
          "metadata": {},
          "execution_count": 34
        }
      ],
      "source": [
        "from scipy import stats\n",
        "# import scipy\n",
        "#Probability of making 2% loss or higher loss in Glaxo - left of 0 i.e.e -0.02\n",
        "stats.norm.cdf(-0.02,0.0004, 0.0134) # norm.cdf(0.02,mean,std)\n",
        "#loc=glaxo_df.gain.mean(),\n",
        "#scale=glaxo_df.gain.std()) # there are 6% of chances having 2% or higher loss"
      ]
    },
    {
      "cell_type": "markdown",
      "source": [
        "# **norm.cdf() and norm.ppf() function difference**"
      ],
      "metadata": {
        "id": "mTQNsnRSp0LU"
      }
    },
    {
      "cell_type": "code",
      "source": [
        "# To understand difference between cdf() and ppf() execute below code.\n",
        "# (Cumulative Distribution Function): norm.cdf(normal distribution value, loc, scale): calculates probability for a given normal distribution value.\n",
        "# (Percent Point Function): norm.ppf(probability,loc,scale): calculates normal distribution value for a given probability.\n",
        "stats.norm.ppf(0.06395593743937553,0.0004, 0.0134) # output of above command,loc,scale"
      ],
      "metadata": {
        "colab": {
          "base_uri": "https://localhost:8080/"
        },
        "id": "mQa2qqLVnHV8",
        "outputId": "eb2cee4d-5bf1-46d5-d92a-8dffda539149"
      },
      "execution_count": null,
      "outputs": [
        {
          "output_type": "execute_result",
          "data": {
            "text/plain": [
              "-0.02"
            ]
          },
          "metadata": {},
          "execution_count": 35
        }
      ]
    },
    {
      "cell_type": "code",
      "execution_count": null,
      "metadata": {
        "id": "9z5RjFTVeQ_i",
        "colab": {
          "base_uri": "https://localhost:8080/"
        },
        "outputId": "e067d8b0-b57c-487d-8b39-ea7360e27d3a"
      },
      "outputs": [
        {
          "output_type": "execute_result",
          "data": {
            "text/plain": [
              "0.07177658173190637"
            ]
          },
          "metadata": {},
          "execution_count": 29
        }
      ],
      "source": [
        "#Probability of making 2% gain or higher gain in Glaxo - to the right of 0.02\n",
        "1 - stats.norm.cdf(0.02,0.0004, 0.0134) # 7% chances of having at least 2% or higher gain, Glaxo seems safer than BEML"
      ]
    },
    {
      "cell_type": "markdown",
      "metadata": {
        "id": "e9ztAiy6eQ_j"
      },
      "source": [
        "### Inclass Exercise"
      ]
    },
    {
      "cell_type": "markdown",
      "metadata": {
        "id": "id2fv20ceQ_m"
      },
      "source": [
        "### Compute 2% loss or gain for BEML\n",
        "Chances of profit or loss are high with BEML than GLAXO"
      ]
    },
    {
      "cell_type": "code",
      "execution_count": null,
      "metadata": {
        "id": "ufXA5SqZeQ_m",
        "colab": {
          "base_uri": "https://localhost:8080/"
        },
        "outputId": "af79122e-2d19-44f0-92a8-ab02e0857c5e"
      },
      "outputs": [
        {
          "output_type": "execute_result",
          "data": {
            "text/plain": [
              "0.22155987503755292"
            ]
          },
          "metadata": {},
          "execution_count": 35
        }
      ],
      "source": [
        "stats.norm.cdf( -0.02,\n",
        "loc=beml_df.gain.mean(),\n",
        "scale=beml_df.gain.std())"
      ]
    },
    {
      "cell_type": "code",
      "execution_count": null,
      "metadata": {
        "id": "vAk2SRjLeQ_r",
        "colab": {
          "base_uri": "https://localhost:8080/"
        },
        "outputId": "03fd24f8-563b-4eeb-cb73-d3bfdb1faf13"
      },
      "outputs": [
        {
          "output_type": "execute_result",
          "data": {
            "text/plain": [
              "0.22769829484075355"
            ]
          },
          "metadata": {},
          "execution_count": 36
        }
      ],
      "source": [
        "#Probability of making 2% gain or higher in BEML\n",
        "1 - stats.norm.cdf(0.02,\n",
        "loc=beml_df.gain.mean(),\n",
        "scale=beml_df.gain.std())"
      ]
    },
    {
      "cell_type": "code",
      "source": [
        "from scipy import stats\n",
        "stats.norm.cdf(1.65,0,1) # Cumulative Distribution Function - Calculates probability for a given normal distribution value"
      ],
      "metadata": {
        "colab": {
          "base_uri": "https://localhost:8080/"
        },
        "id": "PsaLUlt_Jc-b",
        "outputId": "c0a23723-b8a1-4275-de03-57a0247a7207"
      },
      "execution_count": null,
      "outputs": [
        {
          "output_type": "execute_result",
          "data": {
            "text/plain": [
              "0.9505285319663519"
            ]
          },
          "metadata": {},
          "execution_count": 39
        }
      ]
    },
    {
      "cell_type": "code",
      "source": [
        "stats.norm.ppf(0.95,0,1) # Percent Point Funcion - Calculates normal distribution value for which a given probability is thge required value.\n",
        "                         # cdf() and ppf() are inverse of each other."
      ],
      "metadata": {
        "colab": {
          "base_uri": "https://localhost:8080/"
        },
        "id": "0Qczv4BKJ8VM",
        "outputId": "4b03ef04-d78b-4d4f-fc9a-0440bbdd99f2"
      },
      "execution_count": null,
      "outputs": [
        {
          "output_type": "execute_result",
          "data": {
            "text/plain": [
              "1.6448536269514722"
            ]
          },
          "metadata": {},
          "execution_count": 38
        }
      ]
    },
    {
      "cell_type": "code",
      "source": [
        "glaxo_df_ci = stats.norm.interval(0.95,\n",
        "loc = glaxo_df.gain.mean(),\n",
        "scale = glaxo_df.gain.std())\n",
        "print( 'Mean at 95% confidence interval is:', np.round(glaxo_df_ci, 4))"
      ],
      "metadata": {
        "colab": {
          "base_uri": "https://localhost:8080/"
        },
        "id": "JFS-65x4wA3i",
        "outputId": "8066dce3-a065-4b61-db42-3f84d0f01161"
      },
      "execution_count": null,
      "outputs": [
        {
          "output_type": "stream",
          "name": "stdout",
          "text": [
            "Mean at 95% confidence interval is: [-0.0258  0.0266]\n"
          ]
        }
      ]
    },
    {
      "cell_type": "code",
      "source": [
        "beml_df_ci =stats.t.interval(0.95,loc=beml_df.gain.mean(),scale=beml_df.gain.std(),df=1737)\n",
        "print( 'Mean at 95% confidence interval is:', np.round(beml_df_ci, 4))"
      ],
      "metadata": {
        "colab": {
          "base_uri": "https://localhost:8080/"
        },
        "id": "1Us2FJpyxCXB",
        "outputId": "69f894ff-a16d-4532-d315-66d1d421e72d"
      },
      "execution_count": null,
      "outputs": [
        {
          "output_type": "stream",
          "name": "stdout",
          "text": [
            "Mean at 95% confidence interval is: [-0.0516  0.0521]\n"
          ]
        }
      ]
    }
  ],
  "metadata": {
    "colab": {
      "provenance": []
    },
    "kernelspec": {
      "display_name": "Python 3",
      "language": "python",
      "name": "python3"
    },
    "language_info": {
      "codemirror_mode": {
        "name": "ipython",
        "version": 3
      },
      "file_extension": ".py",
      "mimetype": "text/x-python",
      "name": "python",
      "nbconvert_exporter": "python",
      "pygments_lexer": "ipython3",
      "version": "3.7.4"
    }
  },
  "nbformat": 4,
  "nbformat_minor": 0
}