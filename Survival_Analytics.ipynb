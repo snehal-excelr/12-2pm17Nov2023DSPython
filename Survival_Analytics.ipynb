{
  "nbformat": 4,
  "nbformat_minor": 0,
  "metadata": {
    "kernelspec": {
      "display_name": "Python 3",
      "language": "python",
      "name": "python3"
    },
    "language_info": {
      "codemirror_mode": {
        "name": "ipython",
        "version": 3
      },
      "file_extension": ".py",
      "mimetype": "text/x-python",
      "name": "python",
      "nbconvert_exporter": "python",
      "pygments_lexer": "ipython3",
      "version": "3.7.4"
    },
    "colab": {
      "provenance": []
    }
  },
  "cells": [
    {
      "cell_type": "code",
      "metadata": {
        "id": "FEDkpuqjagtT"
      },
      "source": [
        "!pip install lifelines"
      ],
      "execution_count": null,
      "outputs": []
    },
    {
      "cell_type": "code",
      "metadata": {
        "id": "mGw9p8PJagth"
      },
      "source": [
        "import pandas as pd\n",
        "from lifelines import KaplanMeierFitter"
      ],
      "execution_count": null,
      "outputs": []
    },
    {
      "cell_type": "code",
      "metadata": {
        "id": "8QM_jqVfagti"
      },
      "source": [
        "# Loading the the survival un-employment data\n",
        "survival_unemp = pd.read_csv(\"survival_unemployment.csv\")"
      ],
      "execution_count": null,
      "outputs": []
    },
    {
      "cell_type": "code",
      "metadata": {
        "id": "j8h7hMaHagti"
      },
      "source": [
        "survival_unemp.head()"
      ],
      "execution_count": null,
      "outputs": []
    },
    {
      "cell_type": "code",
      "metadata": {
        "id": "QsFbHP7yG7A9"
      },
      "source": [
        "survival_unemp.info()"
      ],
      "execution_count": null,
      "outputs": []
    },
    {
      "cell_type": "code",
      "metadata": {
        "id": "0nzbP1w4agtj"
      },
      "source": [
        "# Spell column is referring to time\n",
        "T = survival_unemp.spell\n",
        "T"
      ],
      "execution_count": null,
      "outputs": []
    },
    {
      "cell_type": "code",
      "metadata": {
        "id": "DqEcFlFMagtj"
      },
      "source": [
        "# Initiating the KaplanMeierFitter model\n",
        "kmf = KaplanMeierFitter()"
      ],
      "execution_count": null,
      "outputs": []
    },
    {
      "cell_type": "code",
      "metadata": {
        "id": "PzSX99Dgagtk"
      },
      "source": [
        "# Fitting KaplanMeierFitter model on Time and Events for death\n",
        "kmf.fit(T,event_observed=survival_unemp.event)# T - time, event_obsserved: whether event occurred or not\n",
        "# Time-line estimations plot\n",
        "kmf.plot()\n",
        "# This is K-M estimation curve. Shaded region is 95% confidence interval."
      ],
      "execution_count": null,
      "outputs": []
    },
    {
      "cell_type": "code",
      "metadata": {
        "id": "U85xDnA_agtk",
        "colab": {
          "base_uri": "https://localhost:8080/"
        },
        "outputId": "80dc7d98-09aa-49f1-f08b-b99e0dbf8c51"
      },
      "source": [
        "# Over Multiple groups\n",
        "# For each group, here group is ui - unemployment insurance\n",
        "survival_unemp.ui.value_counts()"
      ],
      "execution_count": null,
      "outputs": [
        {
          "output_type": "execute_result",
          "data": {
            "text/plain": [
              "1    1848\n",
              "0    1495\n",
              "Name: ui, dtype: int64"
            ]
          },
          "metadata": {},
          "execution_count": 11
        }
      ]
    },
    {
      "cell_type": "code",
      "metadata": {
        "id": "DudBhkPaagtl"
      },
      "source": [
        "# comparison of 2 groups\n",
        "# Applying KaplanMeierFitter model on Time and Events for the group \"1\"\n",
        "kmf.fit(T[survival_unemp.ui==1], survival_unemp.event[survival_unemp.ui==1], label='1')\n",
        "ax = kmf.plot()\n",
        "\n",
        "# Applying KaplanMeierFitter model on Time and Events for the group \"0\"\n",
        "kmf.fit(T[survival_unemp.ui==0], survival_unemp.event[survival_unemp.ui==0], label='0')\n",
        "kmf.plot()\n"
      ],
      "execution_count": null,
      "outputs": []
    },
    {
      "cell_type": "code",
      "metadata": {
        "id": "04-Avi8Vagtl"
      },
      "source": [],
      "execution_count": null,
      "outputs": []
    }
  ]
}