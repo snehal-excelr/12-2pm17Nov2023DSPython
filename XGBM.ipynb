{
  "nbformat": 4,
  "nbformat_minor": 0,
  "metadata": {
    "colab": {
      "provenance": []
    },
    "kernelspec": {
      "name": "python3",
      "display_name": "Python 3"
    },
    "language_info": {
      "name": "python"
    }
  },
  "cells": [
    {
      "cell_type": "code",
      "execution_count": null,
      "metadata": {
        "id": "BNeIqrAaDdUO"
      },
      "outputs": [],
      "source": [
        "import pandas as pd\n",
        "import numpy as np\n",
        "import seaborn as sns\n",
        "\n",
        "from sklearn.preprocessing import LabelEncoder\n",
        "\n",
        "from sklearn.tree import DecisionTreeClassifier\n",
        "from sklearn.ensemble import RandomForestClassifier,AdaBoostClassifier\n",
        "from sklearn.ensemble import GradientBoostingClassifier\n",
        "from sklearn.ensemble import VotingClassifier,StackingClassifier,BaggingClassifier\n",
        "from sklearn.model_selection import train_test_split,KFold,cross_val_score\n",
        "from sklearn.metrics import classification_report\n",
        "from sklearn.linear_model import LogisticRegression\n",
        "from sklearn.neighbors import KNeighborsClassifier\n",
        "!pip install xgboost\n",
        "from xgboost import XGBClassifier\n",
        "import warnings\n",
        "warnings.filterwarnings('ignore')\n",
        "#%matplotlib inline"
      ]
    },
    {
      "cell_type": "code",
      "source": [
        "df = pd.read_csv(\"Wine.csv\")\n",
        "df"
      ],
      "metadata": {
        "id": "fQ59PKi7H62r"
      },
      "execution_count": null,
      "outputs": []
    },
    {
      "cell_type": "code",
      "source": [
        "df['Customer_Segment'].value_counts()"
      ],
      "metadata": {
        "id": "bi_pfP9HIHfm"
      },
      "execution_count": null,
      "outputs": []
    },
    {
      "cell_type": "code",
      "source": [
        "df.describe()"
      ],
      "metadata": {
        "id": "eNmMXNSbIZ3_"
      },
      "execution_count": null,
      "outputs": []
    },
    {
      "cell_type": "code",
      "source": [
        "sns.heatmap(df.isna())# to visualise null values. There are no null values"
      ],
      "metadata": {
        "id": "Bntd0xWTIcVK"
      },
      "execution_count": null,
      "outputs": []
    },
    {
      "cell_type": "code",
      "source": [
        "#Define X and Y\n",
        "x=df.iloc[:,:-1] # all rows, all columns except last column\n",
        "y=df['Customer_Segment']"
      ],
      "metadata": {
        "id": "05C1Hef2JsPq"
      },
      "execution_count": 6,
      "outputs": []
    },
    {
      "cell_type": "code",
      "source": [
        "xtrain,xtest,ytrain,ytest=train_test_split(x,y,test_size=0.2,random_state=42)"
      ],
      "metadata": {
        "id": "2GF-eKotKFtd"
      },
      "execution_count": 7,
      "outputs": []
    },
    {
      "cell_type": "code",
      "source": [
        "#Build individual model first. Check whether single model performing well or when we bag, it is performing well.\n",
        "lg=LogisticRegression()\n",
        "lg.fit(xtrain,ytrain)\n",
        "ypred=lg.predict(xtest)\n",
        "print(classification_report(ytest,ypred))#get confusion matrix\n",
        "print('Train Accuracy: ',lg.score(xtrain,ytrain))\n",
        "print('Test Accuracy: ',lg.score(xtest,ytest))"
      ],
      "metadata": {
        "id": "s2vu8qW3KoxQ",
        "colab": {
          "base_uri": "https://localhost:8080/"
        },
        "outputId": "45546e19-f29b-44f8-f7fe-c8ef5ee4a947"
      },
      "execution_count": 8,
      "outputs": [
        {
          "output_type": "stream",
          "name": "stdout",
          "text": [
            "              precision    recall  f1-score   support\n",
            "\n",
            "           1       1.00      0.93      0.96        14\n",
            "           2       0.93      1.00      0.97        14\n",
            "           3       1.00      1.00      1.00         8\n",
            "\n",
            "    accuracy                           0.97        36\n",
            "   macro avg       0.98      0.98      0.98        36\n",
            "weighted avg       0.97      0.97      0.97        36\n",
            "\n",
            "Train Accuracy:  0.9647887323943662\n",
            "Test Accuracy:  0.9722222222222222\n"
          ]
        }
      ]
    },
    {
      "cell_type": "code",
      "source": [
        "# model is overfitted"
      ],
      "metadata": {
        "id": "urseuxZSMVmj"
      },
      "execution_count": null,
      "outputs": []
    },
    {
      "cell_type": "markdown",
      "source": [
        "# **Bagging** **Classifier**"
      ],
      "metadata": {
        "id": "Em43qDy-Nz4z"
      }
    },
    {
      "cell_type": "code",
      "source": [
        "#bg=BaggingClassifier(DecisionTreeClassifier(),n_estimators=20)\n",
        "bg=BaggingClassifier(DecisionTreeClassifier())\n",
        "#base_estimator: for which algorithm you want to creat bagging classifier\n",
        "#n_estimators: for base estimator algo. how many models you want to create. Its a hyper parameter\n",
        "#base estimator is same for all algorithm."
      ],
      "metadata": {
        "id": "fv8lOo8GN2eJ"
      },
      "execution_count": 9,
      "outputs": []
    },
    {
      "cell_type": "code",
      "source": [
        "bg.fit(xtrain,ytrain)\n",
        "ypred=bg.predict(xtest)\n",
        "print(classification_report(ytest,ypred))\n",
        "print('Train Accuracy: ',bg.score(xtrain,ytrain))\n",
        "print('Test Accuracy: ',bg.score(xtest,ytest))"
      ],
      "metadata": {
        "id": "52MskfyIOPaN",
        "colab": {
          "base_uri": "https://localhost:8080/"
        },
        "outputId": "c0b25194-da73-4c01-d87a-89fbb0986071"
      },
      "execution_count": 10,
      "outputs": [
        {
          "output_type": "stream",
          "name": "stdout",
          "text": [
            "              precision    recall  f1-score   support\n",
            "\n",
            "           1       1.00      0.93      0.96        14\n",
            "           2       0.88      1.00      0.93        14\n",
            "           3       1.00      0.88      0.93         8\n",
            "\n",
            "    accuracy                           0.94        36\n",
            "   macro avg       0.96      0.93      0.94        36\n",
            "weighted avg       0.95      0.94      0.94        36\n",
            "\n",
            "Train Accuracy:  1.0\n",
            "Test Accuracy:  0.9444444444444444\n"
          ]
        }
      ]
    },
    {
      "cell_type": "code",
      "source": [
        "#as we are doing same for diff algorithms so create a function which will build model and print accuracy\n",
        "# write prediction function\n",
        "def predictor(model):\n",
        "  model.fit(xtrain,ytrain)\n",
        "  ypred=model.predict(xtest)\n",
        "  print('Train Accuracy: ',model.score(xtrain,ytrain))\n",
        "  print('Test Accuracy: ',model.score(xtest,ytest))\n",
        "  print(classification_report(ytest,ypred))"
      ],
      "metadata": {
        "id": "6Znd5RJ_OYwD"
      },
      "execution_count": 11,
      "outputs": []
    },
    {
      "cell_type": "code",
      "source": [
        "# Call to function predictor.\n",
        "predictor(DecisionTreeClassifier())"
      ],
      "metadata": {
        "id": "-A2ecu_ZRf4C",
        "colab": {
          "base_uri": "https://localhost:8080/"
        },
        "outputId": "906927cc-9116-489d-abff-3aeb7c0faa05"
      },
      "execution_count": 12,
      "outputs": [
        {
          "output_type": "stream",
          "name": "stdout",
          "text": [
            "Train Accuracy:  1.0\n",
            "Test Accuracy:  0.9444444444444444\n",
            "              precision    recall  f1-score   support\n",
            "\n",
            "           1       0.93      0.93      0.93        14\n",
            "           2       0.93      1.00      0.97        14\n",
            "           3       1.00      0.88      0.93         8\n",
            "\n",
            "    accuracy                           0.94        36\n",
            "   macro avg       0.95      0.93      0.94        36\n",
            "weighted avg       0.95      0.94      0.94        36\n",
            "\n"
          ]
        }
      ]
    },
    {
      "cell_type": "code",
      "source": [
        "predictor(BaggingClassifier(DecisionTreeClassifier()))"
      ],
      "metadata": {
        "id": "6WKLw0wURoT5",
        "colab": {
          "base_uri": "https://localhost:8080/"
        },
        "outputId": "e00e22df-872d-40aa-f026-ea8c8ceb97e9"
      },
      "execution_count": 13,
      "outputs": [
        {
          "output_type": "stream",
          "name": "stdout",
          "text": [
            "Train Accuracy:  1.0\n",
            "Test Accuracy:  0.9166666666666666\n",
            "              precision    recall  f1-score   support\n",
            "\n",
            "           1       0.93      0.93      0.93        14\n",
            "           2       0.87      0.93      0.90        14\n",
            "           3       1.00      0.88      0.93         8\n",
            "\n",
            "    accuracy                           0.92        36\n",
            "   macro avg       0.93      0.91      0.92        36\n",
            "weighted avg       0.92      0.92      0.92        36\n",
            "\n"
          ]
        }
      ]
    },
    {
      "cell_type": "code",
      "source": [
        "predictor(LogisticRegression())"
      ],
      "metadata": {
        "id": "28Fnap9nR9Zn",
        "colab": {
          "base_uri": "https://localhost:8080/"
        },
        "outputId": "92cb3810-b07b-4dc4-a043-9d89a9f7efd2"
      },
      "execution_count": 14,
      "outputs": [
        {
          "output_type": "stream",
          "name": "stdout",
          "text": [
            "Train Accuracy:  0.9647887323943662\n",
            "Test Accuracy:  0.9722222222222222\n",
            "              precision    recall  f1-score   support\n",
            "\n",
            "           1       1.00      0.93      0.96        14\n",
            "           2       0.93      1.00      0.97        14\n",
            "           3       1.00      1.00      1.00         8\n",
            "\n",
            "    accuracy                           0.97        36\n",
            "   macro avg       0.98      0.98      0.98        36\n",
            "weighted avg       0.97      0.97      0.97        36\n",
            "\n"
          ]
        }
      ]
    },
    {
      "cell_type": "code",
      "source": [
        "predictor(KNeighborsClassifier()) # No feature scaling done so less accuracy"
      ],
      "metadata": {
        "id": "e0Woj77NTBRt",
        "colab": {
          "base_uri": "https://localhost:8080/"
        },
        "outputId": "ad3f605f-3eac-43f7-aaa1-b2966c574e78"
      },
      "execution_count": 15,
      "outputs": [
        {
          "output_type": "stream",
          "name": "stdout",
          "text": [
            "Train Accuracy:  0.7535211267605634\n",
            "Test Accuracy:  0.7222222222222222\n",
            "              precision    recall  f1-score   support\n",
            "\n",
            "           1       0.86      0.86      0.86        14\n",
            "           2       0.79      0.79      0.79        14\n",
            "           3       0.38      0.38      0.38         8\n",
            "\n",
            "    accuracy                           0.72        36\n",
            "   macro avg       0.67      0.67      0.67        36\n",
            "weighted avg       0.72      0.72      0.72        36\n",
            "\n"
          ]
        }
      ]
    },
    {
      "cell_type": "code",
      "source": [
        "predictor(BaggingClassifier(KNeighborsClassifier())) # may be after bagging (for default 10 KNN algorithms) accuracy will increase"
      ],
      "metadata": {
        "id": "o-YV_UKTTDTJ",
        "colab": {
          "base_uri": "https://localhost:8080/"
        },
        "outputId": "851d8e90-4013-496d-900d-aaadfbf9819c"
      },
      "execution_count": 16,
      "outputs": [
        {
          "output_type": "stream",
          "name": "stdout",
          "text": [
            "Train Accuracy:  0.7816901408450704\n",
            "Test Accuracy:  0.7222222222222222\n",
            "              precision    recall  f1-score   support\n",
            "\n",
            "           1       0.86      0.86      0.86        14\n",
            "           2       0.90      0.64      0.75        14\n",
            "           3       0.42      0.62      0.50         8\n",
            "\n",
            "    accuracy                           0.72        36\n",
            "   macro avg       0.72      0.71      0.70        36\n",
            "weighted avg       0.78      0.72      0.74        36\n",
            "\n"
          ]
        }
      ]
    },
    {
      "cell_type": "markdown",
      "source": [
        "# **Boosting** **Classifier**"
      ],
      "metadata": {
        "id": "kiVlGxFwUJaO"
      }
    },
    {
      "cell_type": "code",
      "source": [
        "predictor(AdaBoostClassifier())\n",
        "# huge difference between train and test accuracy - uses stump"
      ],
      "metadata": {
        "id": "7DD-kljTUI25",
        "colab": {
          "base_uri": "https://localhost:8080/"
        },
        "outputId": "2085cb81-1f88-4420-fb20-b5e7576e2ef0"
      },
      "execution_count": 17,
      "outputs": [
        {
          "output_type": "stream",
          "name": "stdout",
          "text": [
            "Train Accuracy:  0.9225352112676056\n",
            "Test Accuracy:  0.9166666666666666\n",
            "              precision    recall  f1-score   support\n",
            "\n",
            "           1       1.00      0.86      0.92        14\n",
            "           2       0.82      1.00      0.90        14\n",
            "           3       1.00      0.88      0.93         8\n",
            "\n",
            "    accuracy                           0.92        36\n",
            "   macro avg       0.94      0.91      0.92        36\n",
            "weighted avg       0.93      0.92      0.92        36\n",
            "\n"
          ]
        }
      ]
    },
    {
      "cell_type": "code",
      "source": [
        "predictor(GradientBoostingClassifier())# much better than adaboost - as uses fully grown tree, it works on residuals (tries to correct previous errors)\n",
        "# this is only on one train and test data. Try for kfold"
      ],
      "metadata": {
        "id": "pNLwzoY3UTSE",
        "colab": {
          "base_uri": "https://localhost:8080/"
        },
        "outputId": "74bee21d-799e-410e-84eb-df2ed66e0c35"
      },
      "execution_count": 18,
      "outputs": [
        {
          "output_type": "stream",
          "name": "stdout",
          "text": [
            "Train Accuracy:  1.0\n",
            "Test Accuracy:  0.9444444444444444\n",
            "              precision    recall  f1-score   support\n",
            "\n",
            "           1       0.93      1.00      0.97        14\n",
            "           2       0.93      0.93      0.93        14\n",
            "           3       1.00      0.88      0.93         8\n",
            "\n",
            "    accuracy                           0.94        36\n",
            "   macro avg       0.95      0.93      0.94        36\n",
            "weighted avg       0.95      0.94      0.94        36\n",
            "\n"
          ]
        }
      ]
    },
    {
      "cell_type": "markdown",
      "source": [
        "K-Fold Cross Validation"
      ],
      "metadata": {
        "id": "9CoimkPjVyNe"
      }
    },
    {
      "cell_type": "code",
      "source": [
        "kf=KFold(n_splits=10)\n",
        "score=cross_val_score(GradientBoostingClassifier(),x,y,cv=kf)\n",
        "score"
      ],
      "metadata": {
        "id": "rhg0yghcUrlh",
        "colab": {
          "base_uri": "https://localhost:8080/"
        },
        "outputId": "c9a765d4-358e-4bd4-a896-b1ec4c3897df"
      },
      "execution_count": 19,
      "outputs": [
        {
          "output_type": "execute_result",
          "data": {
            "text/plain": [
              "array([0.94444444, 0.88888889, 0.94444444, 0.88888889, 0.83333333,\n",
              "       1.        , 0.94444444, 0.83333333, 0.88235294, 1.        ])"
            ]
          },
          "metadata": {},
          "execution_count": 19
        }
      ]
    },
    {
      "cell_type": "code",
      "source": [
        "# gradient boosting is performing well. Final accuracy will be avg of all\n",
        "score.mean()"
      ],
      "metadata": {
        "id": "-TbIgQmwXcb9",
        "colab": {
          "base_uri": "https://localhost:8080/"
        },
        "outputId": "9b636cbd-428c-4b28-f2a0-8193e9674f80"
      },
      "execution_count": 20,
      "outputs": [
        {
          "output_type": "execute_result",
          "data": {
            "text/plain": [
              "0.9160130718954248"
            ]
          },
          "metadata": {},
          "execution_count": 20
        }
      ]
    },
    {
      "cell_type": "code",
      "source": [
        "predictor(XGBClassifier()) # some may get error.\n",
        "# in target column, Customer_Segment we have class numbers as 1,2,3\n",
        "#new version requires classification should start from 0. It expects class as 0,1,2\n"
      ],
      "metadata": {
        "id": "tz6Ba8AZXmsm",
        "colab": {
          "base_uri": "https://localhost:8080/",
          "height": 374
        },
        "outputId": "98701db9-6bf9-4aa2-9a31-2a8a6b769a06"
      },
      "execution_count": 21,
      "outputs": [
        {
          "output_type": "error",
          "ename": "ValueError",
          "evalue": "Invalid classes inferred from unique values of `y`.  Expected: [0 1 2], got [1 2 3]",
          "traceback": [
            "\u001b[0;31m---------------------------------------------------------------------------\u001b[0m",
            "\u001b[0;31mValueError\u001b[0m                                Traceback (most recent call last)",
            "\u001b[0;32m<ipython-input-21-41d8252b1a8f>\u001b[0m in \u001b[0;36m<cell line: 1>\u001b[0;34m()\u001b[0m\n\u001b[0;32m----> 1\u001b[0;31m \u001b[0mpredictor\u001b[0m\u001b[0;34m(\u001b[0m\u001b[0mXGBClassifier\u001b[0m\u001b[0;34m(\u001b[0m\u001b[0;34m)\u001b[0m\u001b[0;34m)\u001b[0m \u001b[0;31m# some may get error.\u001b[0m\u001b[0;34m\u001b[0m\u001b[0;34m\u001b[0m\u001b[0m\n\u001b[0m\u001b[1;32m      2\u001b[0m \u001b[0;31m# in target column, Customer_Segment we have class numbers as 1,2,3\u001b[0m\u001b[0;34m\u001b[0m\u001b[0;34m\u001b[0m\u001b[0m\n\u001b[1;32m      3\u001b[0m \u001b[0;31m#new version requires classification should start from 0. It expects class as 0,1,2\u001b[0m\u001b[0;34m\u001b[0m\u001b[0;34m\u001b[0m\u001b[0m\n",
            "\u001b[0;32m<ipython-input-11-7c7bae959986>\u001b[0m in \u001b[0;36mpredictor\u001b[0;34m(model)\u001b[0m\n\u001b[1;32m      2\u001b[0m \u001b[0;31m# write prediction function\u001b[0m\u001b[0;34m\u001b[0m\u001b[0;34m\u001b[0m\u001b[0m\n\u001b[1;32m      3\u001b[0m \u001b[0;32mdef\u001b[0m \u001b[0mpredictor\u001b[0m\u001b[0;34m(\u001b[0m\u001b[0mmodel\u001b[0m\u001b[0;34m)\u001b[0m\u001b[0;34m:\u001b[0m\u001b[0;34m\u001b[0m\u001b[0;34m\u001b[0m\u001b[0m\n\u001b[0;32m----> 4\u001b[0;31m   \u001b[0mmodel\u001b[0m\u001b[0;34m.\u001b[0m\u001b[0mfit\u001b[0m\u001b[0;34m(\u001b[0m\u001b[0mxtrain\u001b[0m\u001b[0;34m,\u001b[0m\u001b[0mytrain\u001b[0m\u001b[0;34m)\u001b[0m\u001b[0;34m\u001b[0m\u001b[0;34m\u001b[0m\u001b[0m\n\u001b[0m\u001b[1;32m      5\u001b[0m   \u001b[0mypred\u001b[0m\u001b[0;34m=\u001b[0m\u001b[0mmodel\u001b[0m\u001b[0;34m.\u001b[0m\u001b[0mpredict\u001b[0m\u001b[0;34m(\u001b[0m\u001b[0mxtest\u001b[0m\u001b[0;34m)\u001b[0m\u001b[0;34m\u001b[0m\u001b[0;34m\u001b[0m\u001b[0m\n\u001b[1;32m      6\u001b[0m   \u001b[0mprint\u001b[0m\u001b[0;34m(\u001b[0m\u001b[0;34m'Train Accuracy: '\u001b[0m\u001b[0;34m,\u001b[0m\u001b[0mmodel\u001b[0m\u001b[0;34m.\u001b[0m\u001b[0mscore\u001b[0m\u001b[0;34m(\u001b[0m\u001b[0mxtrain\u001b[0m\u001b[0;34m,\u001b[0m\u001b[0mytrain\u001b[0m\u001b[0;34m)\u001b[0m\u001b[0;34m)\u001b[0m\u001b[0;34m\u001b[0m\u001b[0;34m\u001b[0m\u001b[0m\n",
            "\u001b[0;32m/usr/local/lib/python3.10/dist-packages/xgboost/core.py\u001b[0m in \u001b[0;36minner_f\u001b[0;34m(*args, **kwargs)\u001b[0m\n\u001b[1;32m    728\u001b[0m             \u001b[0;32mfor\u001b[0m \u001b[0mk\u001b[0m\u001b[0;34m,\u001b[0m \u001b[0marg\u001b[0m \u001b[0;32min\u001b[0m \u001b[0mzip\u001b[0m\u001b[0;34m(\u001b[0m\u001b[0msig\u001b[0m\u001b[0;34m.\u001b[0m\u001b[0mparameters\u001b[0m\u001b[0;34m,\u001b[0m \u001b[0margs\u001b[0m\u001b[0;34m)\u001b[0m\u001b[0;34m:\u001b[0m\u001b[0;34m\u001b[0m\u001b[0;34m\u001b[0m\u001b[0m\n\u001b[1;32m    729\u001b[0m                 \u001b[0mkwargs\u001b[0m\u001b[0;34m[\u001b[0m\u001b[0mk\u001b[0m\u001b[0;34m]\u001b[0m \u001b[0;34m=\u001b[0m \u001b[0marg\u001b[0m\u001b[0;34m\u001b[0m\u001b[0;34m\u001b[0m\u001b[0m\n\u001b[0;32m--> 730\u001b[0;31m             \u001b[0;32mreturn\u001b[0m \u001b[0mfunc\u001b[0m\u001b[0;34m(\u001b[0m\u001b[0;34m**\u001b[0m\u001b[0mkwargs\u001b[0m\u001b[0;34m)\u001b[0m\u001b[0;34m\u001b[0m\u001b[0;34m\u001b[0m\u001b[0m\n\u001b[0m\u001b[1;32m    731\u001b[0m \u001b[0;34m\u001b[0m\u001b[0m\n\u001b[1;32m    732\u001b[0m         \u001b[0;32mreturn\u001b[0m \u001b[0minner_f\u001b[0m\u001b[0;34m\u001b[0m\u001b[0;34m\u001b[0m\u001b[0m\n",
            "\u001b[0;32m/usr/local/lib/python3.10/dist-packages/xgboost/sklearn.py\u001b[0m in \u001b[0;36mfit\u001b[0;34m(self, X, y, sample_weight, base_margin, eval_set, eval_metric, early_stopping_rounds, verbose, xgb_model, sample_weight_eval_set, base_margin_eval_set, feature_weights, callbacks)\u001b[0m\n\u001b[1;32m   1469\u001b[0m                 \u001b[0;32mor\u001b[0m \u001b[0;32mnot\u001b[0m \u001b[0;34m(\u001b[0m\u001b[0mclasses\u001b[0m \u001b[0;34m==\u001b[0m \u001b[0mexpected_classes\u001b[0m\u001b[0;34m)\u001b[0m\u001b[0;34m.\u001b[0m\u001b[0mall\u001b[0m\u001b[0;34m(\u001b[0m\u001b[0;34m)\u001b[0m\u001b[0;34m\u001b[0m\u001b[0;34m\u001b[0m\u001b[0m\n\u001b[1;32m   1470\u001b[0m             ):\n\u001b[0;32m-> 1471\u001b[0;31m                 raise ValueError(\n\u001b[0m\u001b[1;32m   1472\u001b[0m                     \u001b[0;34mf\"Invalid classes inferred from unique values of `y`.  \"\u001b[0m\u001b[0;34m\u001b[0m\u001b[0;34m\u001b[0m\u001b[0m\n\u001b[1;32m   1473\u001b[0m                     \u001b[0;34mf\"Expected: {expected_classes}, got {classes}\"\u001b[0m\u001b[0;34m\u001b[0m\u001b[0;34m\u001b[0m\u001b[0m\n",
            "\u001b[0;31mValueError\u001b[0m: Invalid classes inferred from unique values of `y`.  Expected: [0 1 2], got [1 2 3]"
          ]
        }
      ]
    },
    {
      "cell_type": "code",
      "source": [
        "# to change 1,2,3 to 0,1,2 perform label encoding\n",
        "le = LabelEncoder()\n",
        "y=le.fit_transform(y)\n",
        "y"
      ],
      "metadata": {
        "id": "GlAqmrQUZkwV"
      },
      "execution_count": null,
      "outputs": []
    },
    {
      "cell_type": "code",
      "source": [
        "df['Customer_Segment']=y\n",
        "x=df.iloc[:,:-1] # all rows, all columns except last column\n",
        "y=df['Customer_Segment']\n",
        "xtrain,xtest,ytrain,ytest=train_test_split(x,y,test_size=0.2,random_state=1)"
      ],
      "metadata": {
        "id": "W2QmR_dJnTYI"
      },
      "execution_count": 24,
      "outputs": []
    },
    {
      "cell_type": "code",
      "source": [
        "predictor(XGBClassifier())"
      ],
      "metadata": {
        "id": "9yUChWUYdYJN",
        "colab": {
          "base_uri": "https://localhost:8080/"
        },
        "outputId": "c04e604d-3750-44ce-f24e-496c2f45f5a8"
      },
      "execution_count": 25,
      "outputs": [
        {
          "output_type": "stream",
          "name": "stdout",
          "text": [
            "Train Accuracy:  1.0\n",
            "Test Accuracy:  0.9722222222222222\n",
            "              precision    recall  f1-score   support\n",
            "\n",
            "           0       0.93      1.00      0.97        14\n",
            "           1       1.00      0.92      0.96        13\n",
            "           2       1.00      1.00      1.00         9\n",
            "\n",
            "    accuracy                           0.97        36\n",
            "   macro avg       0.98      0.97      0.98        36\n",
            "weighted avg       0.97      0.97      0.97        36\n",
            "\n"
          ]
        }
      ]
    },
    {
      "cell_type": "markdown",
      "source": [
        "# **Voting and Stacking Classifier**"
      ],
      "metadata": {
        "id": "e3cHMB9LgkBJ"
      }
    },
    {
      "cell_type": "code",
      "source": [
        "# create a list of algorithms\n",
        "models=[]\n",
        "models.append(('lr',LogisticRegression()))\n",
        "models.append(('dt',DecisionTreeClassifier()))\n",
        "models.append(('dt1',DecisionTreeClassifier(criterion='entropy')))\n",
        "models.append(('knn',KNeighborsClassifier()))\n",
        "models.append(('rf',RandomForestClassifier()))"
      ],
      "metadata": {
        "id": "Fy5iPh2PfUHQ"
      },
      "execution_count": 26,
      "outputs": []
    },
    {
      "cell_type": "code",
      "source": [
        "predictor(VotingClassifier(estimators=models))\n"
      ],
      "metadata": {
        "id": "2vaIBfU-iAF4",
        "colab": {
          "base_uri": "https://localhost:8080/"
        },
        "outputId": "e09fcd7a-be24-443c-c5ab-5e26f255b1d2"
      },
      "execution_count": 27,
      "outputs": [
        {
          "output_type": "stream",
          "name": "stdout",
          "text": [
            "Train Accuracy:  1.0\n",
            "Test Accuracy:  0.9444444444444444\n",
            "              precision    recall  f1-score   support\n",
            "\n",
            "           0       0.93      0.93      0.93        14\n",
            "           1       0.92      0.92      0.92        13\n",
            "           2       1.00      1.00      1.00         9\n",
            "\n",
            "    accuracy                           0.94        36\n",
            "   macro avg       0.95      0.95      0.95        36\n",
            "weighted avg       0.94      0.94      0.94        36\n",
            "\n"
          ]
        }
      ]
    },
    {
      "cell_type": "code",
      "source": [
        "predictor(StackingClassifier(estimators=models,final_estimator=RandomForestClassifier()))\n",
        "#suppose we have x,y and we are using M1,M2,M3. Outputs of these models are say y1,y2,y3\n",
        "# if you are using final model as Random Forest model then it will use y and y1,y2,y3 as x variables\n"
      ],
      "metadata": {
        "id": "_w2d-32hkZng",
        "colab": {
          "base_uri": "https://localhost:8080/"
        },
        "outputId": "68f278da-3fbb-4fe6-8d5b-1e1e295099ea"
      },
      "execution_count": 28,
      "outputs": [
        {
          "output_type": "stream",
          "name": "stdout",
          "text": [
            "Train Accuracy:  1.0\n",
            "Test Accuracy:  0.9722222222222222\n",
            "              precision    recall  f1-score   support\n",
            "\n",
            "           0       0.93      1.00      0.97        14\n",
            "           1       1.00      0.92      0.96        13\n",
            "           2       1.00      1.00      1.00         9\n",
            "\n",
            "    accuracy                           0.97        36\n",
            "   macro avg       0.98      0.97      0.98        36\n",
            "weighted avg       0.97      0.97      0.97        36\n",
            "\n"
          ]
        }
      ]
    },
    {
      "cell_type": "code",
      "source": [],
      "metadata": {
        "id": "rY98KzxTlZ7s"
      },
      "execution_count": null,
      "outputs": []
    }
  ]
}